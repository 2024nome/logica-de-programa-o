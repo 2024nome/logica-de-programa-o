{
 "cells": [
  {
   "cell_type": "markdown",
   "metadata": {},
   "source": [
    "exemplos de syntaxes\n",
    "confira alguns exemplos das mais diversas linguagens!"
   ]
  },
  {
   "cell_type": "code",
   "execution_count": null,
   "metadata": {
    "vscode": {
     "languageId": "javascript"
    }
   },
   "outputs": [],
   "source": [
    "java\n",
    "public static void main(string[]args){\n",
    "system.out.println(\"olá mundo\");\n",
    "}"
   ]
  },
  {
   "cell_type": "markdown",
   "metadata": {},
   "source": [
    "C\n",
    "#include <stdio.h>\n",
    "int main(void) {\n",
    "printf(\"hello, world\\n\");\n",
    "}"
   ]
  },
  {
   "cell_type": "markdown",
   "metadata": {},
   "source": [
    "C++\n",
    "#include <iostream>\n",
    "int main() {\n",
    "std:cout <<\"hello, world!\\n\"; return 0;\n",
    "}"
   ]
  },
  {
   "cell_type": "code",
   "execution_count": null,
   "metadata": {
    "vscode": {
     "languageId": "shellscript"
    }
   },
   "outputs": [],
   "source": [
    "php\n",
    "<?php\n",
    "echo \"olá mundo\";\n",
    "?>"
   ]
  },
  {
   "cell_type": "code",
   "execution_count": null,
   "metadata": {
    "vscode": {
     "languageId": "html"
    }
   },
   "outputs": [],
   "source": [
    "javascript\n",
    "<script>\n",
    "console.log('hello world!');\n",
    "</script>"
   ]
  }
 ],
 "metadata": {
  "language_info": {
   "name": "python"
  }
 },
 "nbformat": 4,
 "nbformat_minor": 2
}
