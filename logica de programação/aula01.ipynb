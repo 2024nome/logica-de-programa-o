{
 "cells": [
  {
   "cell_type": "markdown",
   "metadata": {},
   "source": [
    "como funciona?\n",
    "Entenda a fundo como funciona uma linguagem de programação.\n",
    "  comandos para nosso computador executar.\n",
    "  bloco de comando.\n",
    "   se isso {faça isso} caso contrário {faça aquilo}\n",
    "  condições, laços de repetição, rotinas, funções."
   ]
  },
  {
   "cell_type": "markdown",
   "metadata": {},
   "source": [
    "Diferentes linguagens\n",
    "    muitas linguagens de programação, porém a lógica permanece a mesma."
   ]
  },
  {
   "cell_type": "markdown",
   "metadata": {},
   "source": [
    "a lógica\n",
    "    diferentes aplicações, mas a lógica permanece igual.\n",
    "    99% da habilidade do programador está na sua capacidade lógica.\n",
    "    o código vem depois da lógica."
   ]
  },
  {
   "cell_type": "markdown",
   "metadata": {},
   "source": [
    "Compilador\n",
    "    o codigo/linguagem escrito, é \"compilado\" para nosso computador entender.\n",
    "        codigo -> compilador -> Binário\n",
    "    Binário: 000111100111110001111"
   ]
  },
  {
   "cell_type": "markdown",
   "metadata": {},
   "source": [
    "por que aprender a programar hoje é mais fácil?\n",
    "    Diversas lingugagem amigáveis.\n",
    "    antigamente a syntaxe era muito mais dificil.\n",
    "    exemplos, tutoriais, exercícios."
   ]
  },
  {
   "cell_type": "markdown",
   "metadata": {},
   "source": [
    "linguagem conhecidas\n",
    "    hoje temos muitas linguagem de programação.\n",
    "    cada uma com um propósito diferente.\n",
    "    php (web)\n",
    "    java (aplicações, jogos)\n",
    "    c#\n",
    "    c,c ++\n",
    "    python (web)\n",
    "    javascript\n",
    "    ruby"
   ]
  }
 ],
 "metadata": {
  "language_info": {
   "name": "python"
  }
 },
 "nbformat": 4,
 "nbformat_minor": 2
}
