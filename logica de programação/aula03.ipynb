{
 "cells": [
  {
   "cell_type": "markdown",
   "metadata": {},
   "source": [
    "pode da consistência e Persistência\n",
    "por que isso deve estar na sua vida de programador(a)!"
   ]
  },
  {
   "cell_type": "markdown",
   "metadata": {},
   "source": [
    "consistência\n",
    "\n",
    "força o cérebro a entender.\n",
    "Repetição frequente do estudo.\n",
    "seu ritmo de estudos fica no automático.\n",
    "maior facilidade de absorver o conteúdo\n",
    "Evitar intervalos longos de estudo."
   ]
  },
  {
   "cell_type": "markdown",
   "metadata": {},
   "source": [
    "Persistência\n",
    "\n",
    "persitir no erro sem desanimar.\n",
    "quanto mais erros resolvidos mais fácil fica.\n",
    "pesquisar e ir atrás\n",
    "como qualque músculo, programação é prática.\n",
    "foque no objetivo!"
   ]
  }
 ],
 "metadata": {
  "language_info": {
   "name": "python"
  }
 },
 "nbformat": 4,
 "nbformat_minor": 2
}
